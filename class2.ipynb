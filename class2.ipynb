{
 "cells": [
  {
   "cell_type": "code",
   "execution_count": null,
   "id": "aa301e4e-e0cb-4845-a024-fa9a9d3cf8e0",
   "metadata": {},
   "outputs": [],
   "source": [
    "a = 10\n",
    "print (float(a))"
   ]
  },
  {
   "cell_type": "code",
   "execution_count": null,
   "id": "4383fd71-0295-4402-a579-654874bc1049",
   "metadata": {},
   "outputs": [],
   "source": [
    "a = 10.8\n",
    "print (int(a))"
   ]
  },
  {
   "cell_type": "code",
   "execution_count": null,
   "id": "982347fd-4f25-4c97-9abb-d33d9f210ec1",
   "metadata": {},
   "outputs": [],
   "source": [
    "a = 12.9\n",
    "print (int(a))"
   ]
  },
  {
   "cell_type": "code",
   "execution_count": null,
   "id": "fa43e120-6c19-46b5-b0e0-ec292a3261fa",
   "metadata": {},
   "outputs": [],
   "source": [
    "a = 10.1\n",
    "print (complex(a))"
   ]
  },
  {
   "cell_type": "code",
   "execution_count": null,
   "id": "2a93c6d1-c43f-47e4-9bdc-8c55af0b47b1",
   "metadata": {},
   "outputs": [],
   "source": [
    "# format strings:\n",
    "txt = \"This is For only {p:.3f} dollars!\"\n",
    "print(txt.format(p = 49))"
   ]
  },
  {
   "cell_type": "code",
   "execution_count": null,
   "id": "1a401cae-ed6b-4b28-8c67-d6dbb494ba9c",
   "metadata": {},
   "outputs": [],
   "source": [
    "txt1 = \"My name is {name}, I'm {a}\".format(name = \"abc\", a = 36)\n",
    "print(txt1)\n",
    "txt2 = \"My name is {0}, I'm {1}\".format(\"abc\",3)\n",
    "txt3 = \"My name is {}, I'm {}\".format(\"abc\",3)"
   ]
  },
  {
   "cell_type": "code",
   "execution_count": null,
   "id": "564acbce-c4ca-4770-82ca-015f6fc0a89d",
   "metadata": {},
   "outputs": [],
   "source": [
    "moduleno = 2\n",
    "s= f\"This is a format string and we are at module {moduleno}\"\n",
    "print(s)"
   ]
  },
  {
   "cell_type": "code",
   "execution_count": null,
   "id": "6236f023-c935-4203-8db0-b8617f9e118c",
   "metadata": {},
   "outputs": [],
   "source": [
    "txt = f\"price is {20 * 59} rupees\"\n",
    "print(txt)"
   ]
  },
  {
   "cell_type": "code",
   "execution_count": null,
   "id": "09036daa-538c-4965-8873-24bbddba2312",
   "metadata": {},
   "outputs": [],
   "source": [
    "num = 200\n",
    "txt = f\"It is too {'high' if num>100 else 'low'}\"\n",
    "print(txt)"
   ]
  },
  {
   "cell_type": "code",
   "execution_count": null,
   "id": "a61d0e91-c87e-4969-8629-b846964a10dd",
   "metadata": {},
   "outputs": [],
   "source": [
    "try:\n",
    "    # Try to execute some code that might raise an exception\n",
    "    value = int(input(\"Enter a number: \"))\n",
    "    \n",
    "    # If the input is successful, use if-else to check conditions\n",
    "    if value > 0:\n",
    "        print(\"The number is positive.\")\n",
    "    elif value < 0:\n",
    "        print(\"The number is negative.\")\n",
    "    else:\n",
    "        print(\"The number is zero.\")\n",
    "\n",
    "except ValueError:\n",
    "    # Handle the exception if the input is not a valid integer\n",
    "    print(\"Invalid input! Please enter a valid integer.\")"
   ]
  },
  {
   "cell_type": "code",
   "execution_count": null,
   "id": "21b1fbbd-94e5-448d-8d59-5c33dce9188e",
   "metadata": {},
   "outputs": [],
   "source": [
    "str1 = 'this is a string'\n",
    "str2 = \"this is also a string\"\n",
    "str3 = '''this is a multiline string'''\n",
    "print (str1, str2, str3)"
   ]
  },
  {
   "cell_type": "code",
   "execution_count": null,
   "id": "f940509e-7ded-404c-9884-62ff247f2748",
   "metadata": {},
   "outputs": [],
   "source": [
    "print (\"This will be \\n displayed as 2 lines in console\")"
   ]
  },
  {
   "cell_type": "code",
   "execution_count": null,
   "id": "27afedd4-7f74-4074-8cad-498a5d438e0b",
   "metadata": {},
   "outputs": [],
   "source": [
    "print('''Here, it will be \n",
    "displayed as 2 lines in the console''')"
   ]
  },
  {
   "cell_type": "code",
   "execution_count": null,
   "id": "00f1be63-0a24-4c9d-bacd-79d4b6427b4b",
   "metadata": {},
   "outputs": [],
   "source": [
    "'''\n",
    "This is not executed\n",
    "abcd efgh \n",
    "this is a string but behaves as a comment as it is not assigned to any variable, python ignores it. \n",
    "'''\n",
    "print (\"This is executed\")"
   ]
  },
  {
   "cell_type": "code",
   "execution_count": null,
   "id": "e8483de6-aa50-429a-8e43-ed6d36aaaef7",
   "metadata": {},
   "outputs": [],
   "source": [
    "\"comment\"\n",
    "print (\"hello\")\n",
    "\n",
    "# notes in drive, module - 1 error"
   ]
  },
  {
   "cell_type": "markdown",
   "id": "9d94415e-a8f0-487c-8e86-5001ff79f55b",
   "metadata": {},
   "source": [
    "# Basic string operations"
   ]
  },
  {
   "cell_type": "code",
   "execution_count": null,
   "id": "cd5085eb-d2c4-4c9c-a5d6-758a0d7c393f",
   "metadata": {},
   "outputs": [],
   "source": [
    "# concatenate \n",
    "s1 = \"hello \"\n",
    "s2 = \"people\" \n",
    "print (s1 + s2)\n",
    "print (s1,s2)"
   ]
  },
  {
   "cell_type": "code",
   "execution_count": null,
   "id": "5fd77473-5105-48b2-b7e1-5eaa104d9fa1",
   "metadata": {},
   "outputs": [],
   "source": [
    "# * = multiple times \n",
    "a = \"I like DS\"\n",
    "print (a*3)"
   ]
  },
  {
   "cell_type": "code",
   "execution_count": null,
   "id": "e9c36257-62c9-48e0-9eff-ef6a3b9d1278",
   "metadata": {},
   "outputs": [],
   "source": [
    "# indexing \n",
    "my_string = \"Good Evening Edurekans...\"\n",
    "str_a = \"I like to learn DS\"\n",
    "str_b = \"Machine learning\"\n",
    "str_c = \"Deep learning\"\n",
    "print (str_a[0])"
   ]
  },
  {
   "cell_type": "code",
   "execution_count": null,
   "id": "1e3f6e46-0cbd-45be-b324-9bf88e3004c9",
   "metadata": {},
   "outputs": [],
   "source": [
    "print (str_b[0:4]) # 4 = exclusive "
   ]
  },
  {
   "cell_type": "code",
   "execution_count": null,
   "id": "12a5ceb5-abd6-41ac-80a9-283fea635d75",
   "metadata": {},
   "outputs": [],
   "source": [
    "print (str_c[0:])"
   ]
  },
  {
   "cell_type": "code",
   "execution_count": null,
   "id": "8b3d5381-f750-43f6-a9c1-25e5bd4c5aeb",
   "metadata": {},
   "outputs": [],
   "source": [
    "print (str_c[:12])"
   ]
  },
  {
   "cell_type": "code",
   "execution_count": null,
   "id": "bf16dba7-d933-4877-af09-f2c1ba0a6647",
   "metadata": {},
   "outputs": [],
   "source": [
    "#negative indexing\n",
    "print (my_string [-12:-1])"
   ]
  },
  {
   "cell_type": "code",
   "execution_count": null,
   "id": "6e0e1721-bab5-4d4a-a4b3-bc3e3ea69a56",
   "metadata": {},
   "outputs": [],
   "source": [
    "print (my_string[5:-2])"
   ]
  },
  {
   "cell_type": "code",
   "execution_count": null,
   "id": "13afc8ad-c192-4164-a6d4-564e8c0acaec",
   "metadata": {},
   "outputs": [],
   "source": [
    "original_string = \"Hello, World!\"\n",
    "reversed_string = original_string[::-1]\n",
    "print(reversed_string)  # Output: !dlroW ,olleH"
   ]
  },
  {
   "cell_type": "markdown",
   "id": "ea68ec42-5a30-4cd6-bf62-aeea79a9708d",
   "metadata": {},
   "source": [
    "# Lists"
   ]
  },
  {
   "cell_type": "code",
   "execution_count": null,
   "id": "9844171e-aa7d-442b-b150-9dbf8281106f",
   "metadata": {},
   "outputs": [],
   "source": [
    "li = ['string', True, 2, 2.0]\n",
    "print (li)"
   ]
  },
  {
   "cell_type": "code",
   "execution_count": null,
   "id": "b00d6026-b930-4251-adb6-3eae5f017d12",
   "metadata": {},
   "outputs": [],
   "source": [
    "sales = map(int, input ('Sales(Separated by comma)').split(',')) # map is a function that takes 2 inputs, and it returns a map object.\n",
    "sales = list(sales) # converting the map object into list.\n",
    "print(sales)"
   ]
  },
  {
   "cell_type": "code",
   "execution_count": null,
   "id": "8eda7b29-55fe-4544-a576-339c5413358a",
   "metadata": {},
   "outputs": [],
   "source": [
    "print ('Sales of first 3 days', sales[:3]) # by default 0:3, it will print the values of 0,1,2 elements\n",
    "print ('Sales of the 4th day: ', sales[3])\n",
    "sales.sort()\n",
    "print ('sales in ascending order ', sales)\n",
    "print ('sales in descending order ', sales[::-1])\n",
    "second_week = [651,652,653,654,655,666]\n",
    "sales.extend(second_week) # usecases of extending and appending \n",
    "print(f\"sales after extending the second week's sales: {sales}\")\n",
    "last_day = int (input('Enter the sales of last day'))\n",
    "sales.append(last_day)\n",
    "print ('Total ',sum (sales))\n",
    "print ('Maximum ',max(sales))\n",
    "print ('Minimum ', min(sales))"
   ]
  },
  {
   "cell_type": "code",
   "execution_count": null,
   "id": "da7cb0a2-ab33-47cc-a721-1ba5ffcba9a7",
   "metadata": {},
   "outputs": [],
   "source": [
    "# difference netween append and extend \n",
    "x = [1, 2, 3]\n",
    "x.append([4, 5])\n",
    "print(x)  # Output: [1, 2, 3, [4, 5]] Adds a single object to the end of a list."
   ]
  },
  {
   "cell_type": "code",
   "execution_count": null,
   "id": "e7b6bf11-9731-4bf3-9832-ba9d1cbf7cbb",
   "metadata": {},
   "outputs": [],
   "source": [
    "x = [1, 2, 3]\n",
    "x.extend([4, 5])\n",
    "print(x)  # Output: [1, 2, 3, 4, 5] Appends multiple objects from an iterable (e.g., list, tuple, string) to the list."
   ]
  },
  {
   "cell_type": "markdown",
   "id": "2482591d-0393-4618-8b59-ecc77d91e3a1",
   "metadata": {},
   "source": [
    "# Tuples"
   ]
  },
  {
   "cell_type": "code",
   "execution_count": null,
   "id": "ae8352e1-d923-4897-91ba-5d84c44893e2",
   "metadata": {},
   "outputs": [],
   "source": [
    "my_tuple = (1,3,5)\n",
    "my_tuple = (1, \"edureka\", 4.5)\n",
    "my_tuple[0] = 10  # runtime error if you need a mutable collection, use lists; if you need an immutable one, use tuples! "
   ]
  },
  {
   "cell_type": "code",
   "execution_count": null,
   "id": "d8a6890f-0b17-4f43-aada-4136def5dd8d",
   "metadata": {},
   "outputs": [],
   "source": [
    "my_tuple = (1, 2, 3)\n",
    "try:\n",
    "    my_tuple[0] = 10  # This will raise a TypeError\n",
    "except TypeError as e:\n",
    "    print(e)"
   ]
  },
  {
   "cell_type": "code",
   "execution_count": null,
   "id": "11c56dcb-77dd-4a52-9bd4-7db855bd6f49",
   "metadata": {},
   "outputs": [],
   "source": [
    "# related to dictionary\n",
    "try:\n",
    "    my_list_key = (10, 20)\n",
    "    locations = {my_list_key: \"Point A\"}  # This will raise a TypeError\n",
    "    print(locations)\n",
    "except TypeError as e:\n",
    "    print(e)"
   ]
  },
  {
   "cell_type": "code",
   "execution_count": null,
   "id": "47c9b4c6-2729-42f9-8a2d-1ff843d0dbc7",
   "metadata": {},
   "outputs": [],
   "source": [
    "my_tuple = ('data', [1,4,7], ('a','d',6))\n",
    "my_tuple[1][2] = 5\n",
    "print (my_tuple)"
   ]
  },
  {
   "cell_type": "code",
   "execution_count": null,
   "id": "43e036fb-a4e1-4b51-a5ba-f1d6f867e15f",
   "metadata": {},
   "outputs": [],
   "source": [
    "my_tuple[1][1] = 5\n",
    "print(my_tuple)"
   ]
  },
  {
   "cell_type": "markdown",
   "id": "a51969ee-2a88-4548-8d66-236b4aeb4d39",
   "metadata": {},
   "source": [
    "# Sets"
   ]
  },
  {
   "cell_type": "code",
   "execution_count": null,
   "id": "f65cbacb-5a20-4166-8a49-181b90b77b89",
   "metadata": {},
   "outputs": [],
   "source": [
    "vowels = {'a','a','a', 'a', 'e','i', 'o', 'u'}\n",
    "print ('set of vowels', vowels)"
   ]
  },
  {
   "cell_type": "code",
   "execution_count": null,
   "id": "e817b158-818e-4740-bd7b-1fc55548586b",
   "metadata": {},
   "outputs": [],
   "source": [
    "my_list = ['a', 'e', 'i']\n",
    "my_set = set(my_list)\n",
    "print(my_set)"
   ]
  },
  {
   "cell_type": "code",
   "execution_count": null,
   "id": "ce1c6032-bf65-430b-9638-1fb74e46f902",
   "metadata": {},
   "outputs": [],
   "source": [
    "#set operations \n",
    "a = {6,5,4,2,1}\n",
    "b = {8,7,6,5,3}\n",
    "print (a|b) # union 1,2,3,4,5,6,7,8"
   ]
  },
  {
   "cell_type": "code",
   "execution_count": null,
   "id": "d7d14c5a-6e43-44f8-acb0-20006d257909",
   "metadata": {},
   "outputs": [],
   "source": [
    "print (a&b) # intersection 5,6"
   ]
  },
  {
   "cell_type": "code",
   "execution_count": null,
   "id": "1f63f7b2-1bff-4f2e-9fb5-909e5b4f7707",
   "metadata": {},
   "outputs": [],
   "source": [
    "print (a-b) # difference 1,2,4"
   ]
  },
  {
   "cell_type": "code",
   "execution_count": null,
   "id": "03e06cbe-1875-4e20-be89-1ba92a385382",
   "metadata": {},
   "outputs": [],
   "source": [
    "print (b-a) # diference  8,7,3"
   ]
  },
  {
   "cell_type": "code",
   "execution_count": null,
   "id": "435b7b13-3106-4692-b0ac-808f688043bb",
   "metadata": {},
   "outputs": [],
   "source": [
    "print (a^b) # symmetric difference 1,2,3,4,7,8"
   ]
  },
  {
   "cell_type": "markdown",
   "id": "174c92cd-09ce-46c2-9f8f-9e3a7b988726",
   "metadata": {},
   "source": [
    "# Dictionaries"
   ]
  },
  {
   "cell_type": "code",
   "execution_count": null,
   "id": "202b273f-4ebc-4e7a-8d2c-cf38ade70809",
   "metadata": {},
   "outputs": [],
   "source": [
    "emp_data = {'Name':'James', 'Age':25, 'Band': 'C'}\n",
    "#dictionary operations\n",
    "print(emp_data)"
   ]
  },
  {
   "cell_type": "code",
   "execution_count": 5,
   "id": "cb4a050d-1aff-4e8e-b78f-71ef1eda254e",
   "metadata": {},
   "outputs": [
    {
     "name": "stdout",
     "output_type": "stream",
     "text": [
      "<class 'list'>\n"
     ]
    }
   ],
   "source": [
    "keys = ['Name', 'ID', 'Class']\n",
    "print (type(keys))"
   ]
  },
  {
   "cell_type": "code",
   "execution_count": 9,
   "id": "30189fc7-146a-4c0c-858b-a4660cde38fb",
   "metadata": {},
   "outputs": [],
   "source": [
    "my_dict = dict.fromkeys(keys) #The fromkeys() method is called on the dict class.It creates a new dictionary where the keys are taken from the iterable (in this case, the list keys)."
   ]
  },
  {
   "cell_type": "code",
   "execution_count": 11,
   "id": "c04d81ed-9151-463a-8a8b-78c974184a0e",
   "metadata": {},
   "outputs": [
    {
     "name": "stdout",
     "output_type": "stream",
     "text": [
      "{'Name': None, 'ID': None, 'Class': None}\n"
     ]
    }
   ],
   "source": [
    "print (my_dict) #o/p : {'Name':None, 'ID':None, 'Class':None} The values for all keys are set to None by default."
   ]
  },
  {
   "cell_type": "code",
   "execution_count": 13,
   "id": "bd2d0706-472c-4e64-8235-5478e9a87f15",
   "metadata": {},
   "outputs": [
    {
     "name": "stdout",
     "output_type": "stream",
     "text": [
      "{'Name': 'YOURNAME', 'ID': 2345, 'Class': None, 'class': 'A'}\n"
     ]
    }
   ],
   "source": [
    "my_dict['Name'] = 'YOURNAME'\n",
    "my_dict['ID'] = 2345 # if key is present, the value is updated otherwise this item is added in the dictionary.\n",
    "my_dict['class'] = 'A' # notice that class and Class are different and class was not the key previously present it has been added now by this statement\n",
    "print(my_dict)  "
   ]
  },
  {
   "cell_type": "code",
   "execution_count": 15,
   "id": "83c05a4d-69be-4bbf-af5e-8c388a43c15f",
   "metadata": {},
   "outputs": [
    {
     "name": "stdout",
     "output_type": "stream",
     "text": [
      "dict_items([('Name', 'YOURNAME'), ('ID', 2345), ('Class', None), ('class', 'A')])\n",
      "dict_keys(['Name', 'ID', 'Class', 'class'])\n"
     ]
    }
   ],
   "source": [
    "print(my_dict.items())\n",
    "print(my_dict.keys())"
   ]
  },
  {
   "cell_type": "code",
   "execution_count": 17,
   "id": "bc741b85-d718-4cce-8260-39df5978d0a7",
   "metadata": {},
   "outputs": [
    {
     "name": "stdout",
     "output_type": "stream",
     "text": [
      "{'Name': 'YOURNAME', 'ID': 2345, 'Class': None, 'class': 'A'}\n",
      "dict_values(['Sherlock', 10, None, 'A', 'popular'])\n",
      "dict_keys(['Name', 'ID', 'Class', 'class', 'series'])\n",
      "dict_items([('Name', 'Sherlock'), ('ID', 10), ('Class', None), ('class', 'A'), ('series', 'popular')])\n"
     ]
    }
   ],
   "source": [
    "new_dict = {'Name':'Sherlock', 'ID':10, 'series':'popular'}\n",
    "print(my_dict)\n",
    "my_dict.update(new_dict)\n",
    "print (my_dict.values())\n",
    "print (my_dict.keys())\n",
    "print (my_dict.items())"
   ]
  },
  {
   "cell_type": "code",
   "execution_count": 19,
   "id": "fed6d17e-dbe8-41b8-90a0-58cb75a3376a",
   "metadata": {},
   "outputs": [
    {
     "name": "stdout",
     "output_type": "stream",
     "text": [
      "{'Name': 'Sherlock', 'ID': 10, 'Class': None, 'class': 'A', 'series': 'popular', 'address': 'bangalore'}\n"
     ]
    }
   ],
   "source": [
    "my_dict['address'] = 'bangalore'\n",
    "print(my_dict)"
   ]
  },
  {
   "cell_type": "code",
   "execution_count": 25,
   "id": "a2fa3520-4b0c-4540-ae0f-c8745aa5d98a",
   "metadata": {},
   "outputs": [
    {
     "name": "stdout",
     "output_type": "stream",
     "text": [
      "('class', 'A')\n",
      "{'Name': 'Sherlock', 'ID': 10, 'Class': None}\n"
     ]
    }
   ],
   "source": [
    "# print (my_dict.pop('address')) #removing the element and pop will return the value \n",
    "print(my_dict.popitem()) #removes any item and returns the item\n",
    "print(my_dict)"
   ]
  },
  {
   "cell_type": "code",
   "execution_count": null,
   "id": "5aa76ffd-de64-4df1-803c-adc605a52ce9",
   "metadata": {},
   "outputs": [],
   "source": []
  }
 ],
 "metadata": {
  "kernelspec": {
   "display_name": "Python 3 (ipykernel)",
   "language": "python",
   "name": "python3"
  },
  "language_info": {
   "codemirror_mode": {
    "name": "ipython",
    "version": 3
   },
   "file_extension": ".py",
   "mimetype": "text/x-python",
   "name": "python",
   "nbconvert_exporter": "python",
   "pygments_lexer": "ipython3",
   "version": "3.12.4"
  }
 },
 "nbformat": 4,
 "nbformat_minor": 5
}
